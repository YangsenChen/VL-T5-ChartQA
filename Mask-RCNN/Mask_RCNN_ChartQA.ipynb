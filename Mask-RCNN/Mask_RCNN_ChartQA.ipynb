{
 "nbformat": 4,
 "nbformat_minor": 0,
 "metadata": {
  "colab": {
   "provenance": [],
   "authorship_tag": "ABX9TyMY7WX67oeI3vobgZkdPuxI"
  },
  "kernelspec": {
   "name": "python3",
   "display_name": "Python 3"
  },
  "language_info": {
   "name": "python"
  },
  "accelerator": "GPU",
  "gpuClass": "standard"
 },
 "cells": [
  {
   "cell_type": "code",
   "execution_count": 1,
   "metadata": {
    "colab": {
     "base_uri": "https://localhost:8080/"
    },
    "id": "2GqQlpj3GOXw",
    "outputId": "bb5d182b-7304-4821-c82d-28537782ad8c"
   },
   "outputs": [
    {
     "name": "stdout",
     "output_type": "stream",
     "text": [
      "Thu Mar 16 22:19:01 2023       \r\n",
      "+-----------------------------------------------------------------------------+\r\n",
      "| NVIDIA-SMI 465.19.01    Driver Version: 512.36       CUDA Version: 11.6     |\r\n",
      "|-------------------------------+----------------------+----------------------+\r\n",
      "| GPU  Name        Persistence-M| Bus-Id        Disp.A | Volatile Uncorr. ECC |\r\n",
      "| Fan  Temp  Perf  Pwr:Usage/Cap|         Memory-Usage | GPU-Util  Compute M. |\r\n",
      "|                               |                      |               MIG M. |\r\n",
      "|===============================+======================+======================|\r\n",
      "|   0  NVIDIA GeForce ...  On   | 00000000:01:00.0  On |                  N/A |\r\n",
      "| N/A   41C    P8    13W /  N/A |   2259MiB / 16384MiB |      1%      Default |\r\n",
      "|                               |                      |                  N/A |\r\n",
      "+-------------------------------+----------------------+----------------------+\r\n",
      "                                                                               \r\n",
      "+-----------------------------------------------------------------------------+\r\n",
      "| Processes:                                                                  |\r\n",
      "|  GPU   GI   CI        PID   Type   Process name                  GPU Memory |\r\n",
      "|        ID   ID                                                   Usage      |\r\n",
      "|=============================================================================|\r\n",
      "|    0   N/A  N/A        18      G   /Xwayland                       N/A      |\r\n",
      "|    0   N/A  N/A        23      G   /Xwayland                       N/A      |\r\n",
      "|    0   N/A  N/A      4421      C   /python3.7                      N/A      |\r\n",
      "+-----------------------------------------------------------------------------+\r\n"
     ]
    }
   ],
   "source": [
    "!nvidia-smi"
   ]
  },
  {
   "cell_type": "markdown",
   "source": [
    "# Data Downloading"
   ],
   "metadata": {
    "id": "lCM8lhM9KI3o"
   }
  },
  {
   "cell_type": "code",
   "source": [],
   "metadata": {
    "id": "QDXGt0yIIJl7"
   },
   "execution_count": 1,
   "outputs": []
  },
  {
   "cell_type": "code",
   "source": [
    "# Download your Sample Data"
   ],
   "metadata": {
    "id": "gpIRryjeINsb"
   },
   "execution_count": 27,
   "outputs": []
  },
  {
   "cell_type": "code",
   "source": [
    "# !unzip -q data.zip"
   ],
   "metadata": {
    "id": "NGrnqLRnIyoZ"
   },
   "execution_count": 8,
   "outputs": []
  },
  {
   "cell_type": "markdown",
   "source": [
    "# Install Dependencies"
   ],
   "metadata": {
    "id": "OV88VDftKLsc"
   }
  },
  {
   "cell_type": "code",
   "source": [
    "!pip install 'git+https://github.com/facebookresearch/detectron2.git'"
   ],
   "metadata": {
    "colab": {
     "base_uri": "https://localhost:8080/",
     "height": 1000
    },
    "id": "pqZj2UdDJX2S",
    "outputId": "47956864-e126-42e9-f1e4-dcf6e8bb61f3"
   },
   "execution_count": 2,
   "outputs": [
    {
     "name": "stdout",
     "output_type": "stream",
     "text": [
      "/bin/sh: 1: pip: not found\r\n"
     ]
    }
   ]
  },
  {
   "cell_type": "markdown",
   "source": [
    "# Training"
   ],
   "metadata": {
    "id": "tO5GwrDtLBoG"
   }
  },
  {
   "cell_type": "code",
   "source": [
    "!python train.py --train-data-dict data/train_dict.pickle --valid-data-dict data/val_dict.pickle --train-images /mnt/c/Users/yangsen/Desktop/intern/ChartQA/ChartQA Dataset/train/png --valid-images data/images_validation/ --output-dir ../data/train/features/ --ITERS 16000 --batch-size 2"
   ],
   "metadata": {
    "colab": {
     "base_uri": "https://localhost:8080/"
    },
    "id": "IxTHYu-OKOM4",
    "outputId": "8f242591-0476-4ef5-fff2-65adf43b1e69"
   },
   "execution_count": 3,
   "outputs": [
    {
     "name": "stdout",
     "output_type": "stream",
     "text": [
      "/bin/sh: 1: python: not found\r\n"
     ]
    }
   ]
  },
  {
   "cell_type": "code",
   "source": [],
   "metadata": {
    "id": "IhCpDy4JLdE5"
   },
   "execution_count": null,
   "outputs": []
  },
  {
   "cell_type": "code",
   "source": [],
   "metadata": {
    "id": "rMHzhD93MLOX"
   },
   "execution_count": null,
   "outputs": []
  },
  {
   "cell_type": "markdown",
   "source": [
    "# Inference"
   ],
   "metadata": {
    "id": "hBuBMXikML1j"
   }
  },
  {
   "cell_type": "code",
   "source": [
    "import json\n",
    "import cv2\n",
    "import time\n",
    "import matplotlib.pyplot as plt\n",
    "import numpy as np\n",
    "import torch.nn as nn\n",
    "\n",
    "from detectron2.engine import DefaultPredictor\n",
    "from detectron2.config import get_cfg\n",
    "from detectron2.utils.visualizer import Visualizer\n",
    "from detectron2.data import MetadataCatalog, DatasetCatalog\n",
    "from detectron2.engine import DefaultTrainer\n",
    "from detectron2.config import get_cfg\n",
    "from detectron2 import model_zoo\n",
    "from detectron2.modeling import build_model\n",
    "from detectron2.checkpoint import DetectionCheckpointer\n",
    "\n",
    "import torch\n",
    "from tqdm import tqdm\n",
    "from pathlib import Path\n",
    "\n",
    "\n",
    "%load_ext autoreload\n",
    "%autoreload 2"
   ],
   "metadata": {
    "id": "uaYUPzVcMLTY"
   },
   "execution_count": 4,
   "outputs": [
    {
     "ename": "ModuleNotFoundError",
     "evalue": "No module named 'cv2'",
     "output_type": "error",
     "traceback": [
      "\u001B[0;31m---------------------------------------------------------------------------\u001B[0m",
      "\u001B[0;31mModuleNotFoundError\u001B[0m                       Traceback (most recent call last)",
      "\u001B[0;32m/tmp/ipykernel_70/4092271543.py\u001B[0m in \u001B[0;36m<module>\u001B[0;34m\u001B[0m\n\u001B[1;32m      1\u001B[0m \u001B[0;32mimport\u001B[0m \u001B[0mjson\u001B[0m\u001B[0;34m\u001B[0m\u001B[0;34m\u001B[0m\u001B[0m\n\u001B[0;32m----> 2\u001B[0;31m \u001B[0;32mimport\u001B[0m \u001B[0mcv2\u001B[0m\u001B[0;34m\u001B[0m\u001B[0;34m\u001B[0m\u001B[0m\n\u001B[0m\u001B[1;32m      3\u001B[0m \u001B[0;32mimport\u001B[0m \u001B[0mtime\u001B[0m\u001B[0;34m\u001B[0m\u001B[0;34m\u001B[0m\u001B[0m\n\u001B[1;32m      4\u001B[0m \u001B[0;32mimport\u001B[0m \u001B[0mmatplotlib\u001B[0m\u001B[0;34m.\u001B[0m\u001B[0mpyplot\u001B[0m \u001B[0;32mas\u001B[0m \u001B[0mplt\u001B[0m\u001B[0;34m\u001B[0m\u001B[0;34m\u001B[0m\u001B[0m\n\u001B[1;32m      5\u001B[0m \u001B[0;32mimport\u001B[0m \u001B[0mnumpy\u001B[0m \u001B[0;32mas\u001B[0m \u001B[0mnp\u001B[0m\u001B[0;34m\u001B[0m\u001B[0;34m\u001B[0m\u001B[0m\n",
      "\u001B[0;31mModuleNotFoundError\u001B[0m: No module named 'cv2'"
     ]
    }
   ]
  },
  {
   "cell_type": "code",
   "source": [
    "device = torch.device(\"cuda\" if torch.cuda.is_available() else \"cpu\")"
   ],
   "metadata": {
    "id": "M8vvE0qYMLXP"
   },
   "execution_count": 18,
   "outputs": []
  },
  {
   "cell_type": "markdown",
   "source": [
    "Change these paths to your model, images, and saving paths\n",
    "\n"
   ],
   "metadata": {
    "id": "G0rQDG0hSWbY"
   }
  },
  {
   "cell_type": "code",
   "source": [
    "# Change these paths to your model, images, and saving paths\n",
    "trained_model_path = \"model_final_all.pth\"\n",
    "images_path = \"/content/data/images_validation/\"\n",
    "save_path = \"/content/output_feats/\"\n",
    "CLASSES_NUM = 15"
   ],
   "metadata": {
    "id": "of_K28osRSeA"
   },
   "execution_count": 19,
   "outputs": []
  },
  {
   "cell_type": "code",
   "source": [],
   "metadata": {
    "id": "DurUgwo8SVMb"
   },
   "execution_count": null,
   "outputs": []
  },
  {
   "cell_type": "code",
   "source": [
    "from detectron2.engine import DefaultTrainer\n",
    "from detectron2.config import get_cfg\n",
    "from detectron2 import model_zoo\n",
    "import os\n",
    "cfg = get_cfg()\n",
    "cfg.merge_from_file(model_zoo.get_config_file(\"COCO-InstanceSegmentation/mask_rcnn_R_101_C4_3x.yaml\"))\n",
    "cfg.DATALOADER.NUM_WORKERS = 0\n",
    "cfg.MODEL.WEIGHTS = model_zoo.get_checkpoint_url(\"COCO-InstanceSegmentation/mask_rcnn_R_101_C4_3x.yaml\")  # Let training initialize from model zoo\n",
    "cfg.MODEL.ROI_HEADS.BATCH_SIZE_PER_IMAGE = 128 \n",
    "cfg.MODEL.ROI_HEADS.NUM_CLASSES = CLASSES_NUM  # number of classes\n",
    "# NOTE: this config means the number of classes, but a few popular unofficial tutorials incorrect uses num_classes+1 here.\n",
    "os.makedirs(cfg.OUTPUT_DIR, exist_ok=True)"
   ],
   "metadata": {
    "id": "mfOOlYHjMLay"
   },
   "execution_count": 20,
   "outputs": []
  },
  {
   "cell_type": "code",
   "source": [
    "import detectron2.data.transforms as T\n",
    "from detectron2.structures import ImageList\n",
    "aug = T.ResizeShortestEdge(\n",
    "    [cfg.INPUT.MIN_SIZE_TEST, cfg.INPUT.MIN_SIZE_TEST], cfg.INPUT.MAX_SIZE_TEST\n",
    ")\n",
    "input_format = cfg.INPUT.FORMAT"
   ],
   "metadata": {
    "id": "ZMe5fSJMMd_h"
   },
   "execution_count": 21,
   "outputs": []
  },
  {
   "cell_type": "code",
   "source": [
    "cfg.INPUT.MIN_SIZE_TEST, cfg.INPUT.MAX_SIZE_TEST"
   ],
   "metadata": {
    "colab": {
     "base_uri": "https://localhost:8080/"
    },
    "id": "vMEK4jtHMgEI",
    "outputId": "c41b106c-84f5-485c-b1e7-cb9f768c3c80"
   },
   "execution_count": 22,
   "outputs": [
    {
     "output_type": "execute_result",
     "data": {
      "text/plain": [
       "(800, 1333)"
      ]
     },
     "metadata": {},
     "execution_count": 22
    }
   ]
  },
  {
   "cell_type": "code",
   "source": [
    "cfg.MODEL.WEIGHTS = os.path.join(cfg.OUTPUT_DIR, trained_model_path)  # path to the model we just trained\n",
    "cfg.MODEL.ROI_HEADS.SCORE_THRESH_TEST = 0.7   # set a custom testing threshold\n",
    "model = build_model(cfg)\n",
    "DetectionCheckpointer(model).load(trained_model_path)\n",
    "model.eval()"
   ],
   "metadata": {
    "colab": {
     "base_uri": "https://localhost:8080/"
    },
    "id": "cwukI_X-MmMZ",
    "outputId": "49f72923-bca1-407b-b45b-f1c01ea8ddd4"
   },
   "execution_count": 23,
   "outputs": [
    {
     "output_type": "execute_result",
     "data": {
      "text/plain": [
       "GeneralizedRCNN(\n",
       "  (backbone): ResNet(\n",
       "    (stem): BasicStem(\n",
       "      (conv1): Conv2d(\n",
       "        3, 64, kernel_size=(7, 7), stride=(2, 2), padding=(3, 3), bias=False\n",
       "        (norm): FrozenBatchNorm2d(num_features=64, eps=1e-05)\n",
       "      )\n",
       "    )\n",
       "    (res2): Sequential(\n",
       "      (0): BottleneckBlock(\n",
       "        (shortcut): Conv2d(\n",
       "          64, 256, kernel_size=(1, 1), stride=(1, 1), bias=False\n",
       "          (norm): FrozenBatchNorm2d(num_features=256, eps=1e-05)\n",
       "        )\n",
       "        (conv1): Conv2d(\n",
       "          64, 64, kernel_size=(1, 1), stride=(1, 1), bias=False\n",
       "          (norm): FrozenBatchNorm2d(num_features=64, eps=1e-05)\n",
       "        )\n",
       "        (conv2): Conv2d(\n",
       "          64, 64, kernel_size=(3, 3), stride=(1, 1), padding=(1, 1), bias=False\n",
       "          (norm): FrozenBatchNorm2d(num_features=64, eps=1e-05)\n",
       "        )\n",
       "        (conv3): Conv2d(\n",
       "          64, 256, kernel_size=(1, 1), stride=(1, 1), bias=False\n",
       "          (norm): FrozenBatchNorm2d(num_features=256, eps=1e-05)\n",
       "        )\n",
       "      )\n",
       "      (1): BottleneckBlock(\n",
       "        (conv1): Conv2d(\n",
       "          256, 64, kernel_size=(1, 1), stride=(1, 1), bias=False\n",
       "          (norm): FrozenBatchNorm2d(num_features=64, eps=1e-05)\n",
       "        )\n",
       "        (conv2): Conv2d(\n",
       "          64, 64, kernel_size=(3, 3), stride=(1, 1), padding=(1, 1), bias=False\n",
       "          (norm): FrozenBatchNorm2d(num_features=64, eps=1e-05)\n",
       "        )\n",
       "        (conv3): Conv2d(\n",
       "          64, 256, kernel_size=(1, 1), stride=(1, 1), bias=False\n",
       "          (norm): FrozenBatchNorm2d(num_features=256, eps=1e-05)\n",
       "        )\n",
       "      )\n",
       "      (2): BottleneckBlock(\n",
       "        (conv1): Conv2d(\n",
       "          256, 64, kernel_size=(1, 1), stride=(1, 1), bias=False\n",
       "          (norm): FrozenBatchNorm2d(num_features=64, eps=1e-05)\n",
       "        )\n",
       "        (conv2): Conv2d(\n",
       "          64, 64, kernel_size=(3, 3), stride=(1, 1), padding=(1, 1), bias=False\n",
       "          (norm): FrozenBatchNorm2d(num_features=64, eps=1e-05)\n",
       "        )\n",
       "        (conv3): Conv2d(\n",
       "          64, 256, kernel_size=(1, 1), stride=(1, 1), bias=False\n",
       "          (norm): FrozenBatchNorm2d(num_features=256, eps=1e-05)\n",
       "        )\n",
       "      )\n",
       "    )\n",
       "    (res3): Sequential(\n",
       "      (0): BottleneckBlock(\n",
       "        (shortcut): Conv2d(\n",
       "          256, 512, kernel_size=(1, 1), stride=(2, 2), bias=False\n",
       "          (norm): FrozenBatchNorm2d(num_features=512, eps=1e-05)\n",
       "        )\n",
       "        (conv1): Conv2d(\n",
       "          256, 128, kernel_size=(1, 1), stride=(2, 2), bias=False\n",
       "          (norm): FrozenBatchNorm2d(num_features=128, eps=1e-05)\n",
       "        )\n",
       "        (conv2): Conv2d(\n",
       "          128, 128, kernel_size=(3, 3), stride=(1, 1), padding=(1, 1), bias=False\n",
       "          (norm): FrozenBatchNorm2d(num_features=128, eps=1e-05)\n",
       "        )\n",
       "        (conv3): Conv2d(\n",
       "          128, 512, kernel_size=(1, 1), stride=(1, 1), bias=False\n",
       "          (norm): FrozenBatchNorm2d(num_features=512, eps=1e-05)\n",
       "        )\n",
       "      )\n",
       "      (1): BottleneckBlock(\n",
       "        (conv1): Conv2d(\n",
       "          512, 128, kernel_size=(1, 1), stride=(1, 1), bias=False\n",
       "          (norm): FrozenBatchNorm2d(num_features=128, eps=1e-05)\n",
       "        )\n",
       "        (conv2): Conv2d(\n",
       "          128, 128, kernel_size=(3, 3), stride=(1, 1), padding=(1, 1), bias=False\n",
       "          (norm): FrozenBatchNorm2d(num_features=128, eps=1e-05)\n",
       "        )\n",
       "        (conv3): Conv2d(\n",
       "          128, 512, kernel_size=(1, 1), stride=(1, 1), bias=False\n",
       "          (norm): FrozenBatchNorm2d(num_features=512, eps=1e-05)\n",
       "        )\n",
       "      )\n",
       "      (2): BottleneckBlock(\n",
       "        (conv1): Conv2d(\n",
       "          512, 128, kernel_size=(1, 1), stride=(1, 1), bias=False\n",
       "          (norm): FrozenBatchNorm2d(num_features=128, eps=1e-05)\n",
       "        )\n",
       "        (conv2): Conv2d(\n",
       "          128, 128, kernel_size=(3, 3), stride=(1, 1), padding=(1, 1), bias=False\n",
       "          (norm): FrozenBatchNorm2d(num_features=128, eps=1e-05)\n",
       "        )\n",
       "        (conv3): Conv2d(\n",
       "          128, 512, kernel_size=(1, 1), stride=(1, 1), bias=False\n",
       "          (norm): FrozenBatchNorm2d(num_features=512, eps=1e-05)\n",
       "        )\n",
       "      )\n",
       "      (3): BottleneckBlock(\n",
       "        (conv1): Conv2d(\n",
       "          512, 128, kernel_size=(1, 1), stride=(1, 1), bias=False\n",
       "          (norm): FrozenBatchNorm2d(num_features=128, eps=1e-05)\n",
       "        )\n",
       "        (conv2): Conv2d(\n",
       "          128, 128, kernel_size=(3, 3), stride=(1, 1), padding=(1, 1), bias=False\n",
       "          (norm): FrozenBatchNorm2d(num_features=128, eps=1e-05)\n",
       "        )\n",
       "        (conv3): Conv2d(\n",
       "          128, 512, kernel_size=(1, 1), stride=(1, 1), bias=False\n",
       "          (norm): FrozenBatchNorm2d(num_features=512, eps=1e-05)\n",
       "        )\n",
       "      )\n",
       "    )\n",
       "    (res4): Sequential(\n",
       "      (0): BottleneckBlock(\n",
       "        (shortcut): Conv2d(\n",
       "          512, 1024, kernel_size=(1, 1), stride=(2, 2), bias=False\n",
       "          (norm): FrozenBatchNorm2d(num_features=1024, eps=1e-05)\n",
       "        )\n",
       "        (conv1): Conv2d(\n",
       "          512, 256, kernel_size=(1, 1), stride=(2, 2), bias=False\n",
       "          (norm): FrozenBatchNorm2d(num_features=256, eps=1e-05)\n",
       "        )\n",
       "        (conv2): Conv2d(\n",
       "          256, 256, kernel_size=(3, 3), stride=(1, 1), padding=(1, 1), bias=False\n",
       "          (norm): FrozenBatchNorm2d(num_features=256, eps=1e-05)\n",
       "        )\n",
       "        (conv3): Conv2d(\n",
       "          256, 1024, kernel_size=(1, 1), stride=(1, 1), bias=False\n",
       "          (norm): FrozenBatchNorm2d(num_features=1024, eps=1e-05)\n",
       "        )\n",
       "      )\n",
       "      (1): BottleneckBlock(\n",
       "        (conv1): Conv2d(\n",
       "          1024, 256, kernel_size=(1, 1), stride=(1, 1), bias=False\n",
       "          (norm): FrozenBatchNorm2d(num_features=256, eps=1e-05)\n",
       "        )\n",
       "        (conv2): Conv2d(\n",
       "          256, 256, kernel_size=(3, 3), stride=(1, 1), padding=(1, 1), bias=False\n",
       "          (norm): FrozenBatchNorm2d(num_features=256, eps=1e-05)\n",
       "        )\n",
       "        (conv3): Conv2d(\n",
       "          256, 1024, kernel_size=(1, 1), stride=(1, 1), bias=False\n",
       "          (norm): FrozenBatchNorm2d(num_features=1024, eps=1e-05)\n",
       "        )\n",
       "      )\n",
       "      (2): BottleneckBlock(\n",
       "        (conv1): Conv2d(\n",
       "          1024, 256, kernel_size=(1, 1), stride=(1, 1), bias=False\n",
       "          (norm): FrozenBatchNorm2d(num_features=256, eps=1e-05)\n",
       "        )\n",
       "        (conv2): Conv2d(\n",
       "          256, 256, kernel_size=(3, 3), stride=(1, 1), padding=(1, 1), bias=False\n",
       "          (norm): FrozenBatchNorm2d(num_features=256, eps=1e-05)\n",
       "        )\n",
       "        (conv3): Conv2d(\n",
       "          256, 1024, kernel_size=(1, 1), stride=(1, 1), bias=False\n",
       "          (norm): FrozenBatchNorm2d(num_features=1024, eps=1e-05)\n",
       "        )\n",
       "      )\n",
       "      (3): BottleneckBlock(\n",
       "        (conv1): Conv2d(\n",
       "          1024, 256, kernel_size=(1, 1), stride=(1, 1), bias=False\n",
       "          (norm): FrozenBatchNorm2d(num_features=256, eps=1e-05)\n",
       "        )\n",
       "        (conv2): Conv2d(\n",
       "          256, 256, kernel_size=(3, 3), stride=(1, 1), padding=(1, 1), bias=False\n",
       "          (norm): FrozenBatchNorm2d(num_features=256, eps=1e-05)\n",
       "        )\n",
       "        (conv3): Conv2d(\n",
       "          256, 1024, kernel_size=(1, 1), stride=(1, 1), bias=False\n",
       "          (norm): FrozenBatchNorm2d(num_features=1024, eps=1e-05)\n",
       "        )\n",
       "      )\n",
       "      (4): BottleneckBlock(\n",
       "        (conv1): Conv2d(\n",
       "          1024, 256, kernel_size=(1, 1), stride=(1, 1), bias=False\n",
       "          (norm): FrozenBatchNorm2d(num_features=256, eps=1e-05)\n",
       "        )\n",
       "        (conv2): Conv2d(\n",
       "          256, 256, kernel_size=(3, 3), stride=(1, 1), padding=(1, 1), bias=False\n",
       "          (norm): FrozenBatchNorm2d(num_features=256, eps=1e-05)\n",
       "        )\n",
       "        (conv3): Conv2d(\n",
       "          256, 1024, kernel_size=(1, 1), stride=(1, 1), bias=False\n",
       "          (norm): FrozenBatchNorm2d(num_features=1024, eps=1e-05)\n",
       "        )\n",
       "      )\n",
       "      (5): BottleneckBlock(\n",
       "        (conv1): Conv2d(\n",
       "          1024, 256, kernel_size=(1, 1), stride=(1, 1), bias=False\n",
       "          (norm): FrozenBatchNorm2d(num_features=256, eps=1e-05)\n",
       "        )\n",
       "        (conv2): Conv2d(\n",
       "          256, 256, kernel_size=(3, 3), stride=(1, 1), padding=(1, 1), bias=False\n",
       "          (norm): FrozenBatchNorm2d(num_features=256, eps=1e-05)\n",
       "        )\n",
       "        (conv3): Conv2d(\n",
       "          256, 1024, kernel_size=(1, 1), stride=(1, 1), bias=False\n",
       "          (norm): FrozenBatchNorm2d(num_features=1024, eps=1e-05)\n",
       "        )\n",
       "      )\n",
       "      (6): BottleneckBlock(\n",
       "        (conv1): Conv2d(\n",
       "          1024, 256, kernel_size=(1, 1), stride=(1, 1), bias=False\n",
       "          (norm): FrozenBatchNorm2d(num_features=256, eps=1e-05)\n",
       "        )\n",
       "        (conv2): Conv2d(\n",
       "          256, 256, kernel_size=(3, 3), stride=(1, 1), padding=(1, 1), bias=False\n",
       "          (norm): FrozenBatchNorm2d(num_features=256, eps=1e-05)\n",
       "        )\n",
       "        (conv3): Conv2d(\n",
       "          256, 1024, kernel_size=(1, 1), stride=(1, 1), bias=False\n",
       "          (norm): FrozenBatchNorm2d(num_features=1024, eps=1e-05)\n",
       "        )\n",
       "      )\n",
       "      (7): BottleneckBlock(\n",
       "        (conv1): Conv2d(\n",
       "          1024, 256, kernel_size=(1, 1), stride=(1, 1), bias=False\n",
       "          (norm): FrozenBatchNorm2d(num_features=256, eps=1e-05)\n",
       "        )\n",
       "        (conv2): Conv2d(\n",
       "          256, 256, kernel_size=(3, 3), stride=(1, 1), padding=(1, 1), bias=False\n",
       "          (norm): FrozenBatchNorm2d(num_features=256, eps=1e-05)\n",
       "        )\n",
       "        (conv3): Conv2d(\n",
       "          256, 1024, kernel_size=(1, 1), stride=(1, 1), bias=False\n",
       "          (norm): FrozenBatchNorm2d(num_features=1024, eps=1e-05)\n",
       "        )\n",
       "      )\n",
       "      (8): BottleneckBlock(\n",
       "        (conv1): Conv2d(\n",
       "          1024, 256, kernel_size=(1, 1), stride=(1, 1), bias=False\n",
       "          (norm): FrozenBatchNorm2d(num_features=256, eps=1e-05)\n",
       "        )\n",
       "        (conv2): Conv2d(\n",
       "          256, 256, kernel_size=(3, 3), stride=(1, 1), padding=(1, 1), bias=False\n",
       "          (norm): FrozenBatchNorm2d(num_features=256, eps=1e-05)\n",
       "        )\n",
       "        (conv3): Conv2d(\n",
       "          256, 1024, kernel_size=(1, 1), stride=(1, 1), bias=False\n",
       "          (norm): FrozenBatchNorm2d(num_features=1024, eps=1e-05)\n",
       "        )\n",
       "      )\n",
       "      (9): BottleneckBlock(\n",
       "        (conv1): Conv2d(\n",
       "          1024, 256, kernel_size=(1, 1), stride=(1, 1), bias=False\n",
       "          (norm): FrozenBatchNorm2d(num_features=256, eps=1e-05)\n",
       "        )\n",
       "        (conv2): Conv2d(\n",
       "          256, 256, kernel_size=(3, 3), stride=(1, 1), padding=(1, 1), bias=False\n",
       "          (norm): FrozenBatchNorm2d(num_features=256, eps=1e-05)\n",
       "        )\n",
       "        (conv3): Conv2d(\n",
       "          256, 1024, kernel_size=(1, 1), stride=(1, 1), bias=False\n",
       "          (norm): FrozenBatchNorm2d(num_features=1024, eps=1e-05)\n",
       "        )\n",
       "      )\n",
       "      (10): BottleneckBlock(\n",
       "        (conv1): Conv2d(\n",
       "          1024, 256, kernel_size=(1, 1), stride=(1, 1), bias=False\n",
       "          (norm): FrozenBatchNorm2d(num_features=256, eps=1e-05)\n",
       "        )\n",
       "        (conv2): Conv2d(\n",
       "          256, 256, kernel_size=(3, 3), stride=(1, 1), padding=(1, 1), bias=False\n",
       "          (norm): FrozenBatchNorm2d(num_features=256, eps=1e-05)\n",
       "        )\n",
       "        (conv3): Conv2d(\n",
       "          256, 1024, kernel_size=(1, 1), stride=(1, 1), bias=False\n",
       "          (norm): FrozenBatchNorm2d(num_features=1024, eps=1e-05)\n",
       "        )\n",
       "      )\n",
       "      (11): BottleneckBlock(\n",
       "        (conv1): Conv2d(\n",
       "          1024, 256, kernel_size=(1, 1), stride=(1, 1), bias=False\n",
       "          (norm): FrozenBatchNorm2d(num_features=256, eps=1e-05)\n",
       "        )\n",
       "        (conv2): Conv2d(\n",
       "          256, 256, kernel_size=(3, 3), stride=(1, 1), padding=(1, 1), bias=False\n",
       "          (norm): FrozenBatchNorm2d(num_features=256, eps=1e-05)\n",
       "        )\n",
       "        (conv3): Conv2d(\n",
       "          256, 1024, kernel_size=(1, 1), stride=(1, 1), bias=False\n",
       "          (norm): FrozenBatchNorm2d(num_features=1024, eps=1e-05)\n",
       "        )\n",
       "      )\n",
       "      (12): BottleneckBlock(\n",
       "        (conv1): Conv2d(\n",
       "          1024, 256, kernel_size=(1, 1), stride=(1, 1), bias=False\n",
       "          (norm): FrozenBatchNorm2d(num_features=256, eps=1e-05)\n",
       "        )\n",
       "        (conv2): Conv2d(\n",
       "          256, 256, kernel_size=(3, 3), stride=(1, 1), padding=(1, 1), bias=False\n",
       "          (norm): FrozenBatchNorm2d(num_features=256, eps=1e-05)\n",
       "        )\n",
       "        (conv3): Conv2d(\n",
       "          256, 1024, kernel_size=(1, 1), stride=(1, 1), bias=False\n",
       "          (norm): FrozenBatchNorm2d(num_features=1024, eps=1e-05)\n",
       "        )\n",
       "      )\n",
       "      (13): BottleneckBlock(\n",
       "        (conv1): Conv2d(\n",
       "          1024, 256, kernel_size=(1, 1), stride=(1, 1), bias=False\n",
       "          (norm): FrozenBatchNorm2d(num_features=256, eps=1e-05)\n",
       "        )\n",
       "        (conv2): Conv2d(\n",
       "          256, 256, kernel_size=(3, 3), stride=(1, 1), padding=(1, 1), bias=False\n",
       "          (norm): FrozenBatchNorm2d(num_features=256, eps=1e-05)\n",
       "        )\n",
       "        (conv3): Conv2d(\n",
       "          256, 1024, kernel_size=(1, 1), stride=(1, 1), bias=False\n",
       "          (norm): FrozenBatchNorm2d(num_features=1024, eps=1e-05)\n",
       "        )\n",
       "      )\n",
       "      (14): BottleneckBlock(\n",
       "        (conv1): Conv2d(\n",
       "          1024, 256, kernel_size=(1, 1), stride=(1, 1), bias=False\n",
       "          (norm): FrozenBatchNorm2d(num_features=256, eps=1e-05)\n",
       "        )\n",
       "        (conv2): Conv2d(\n",
       "          256, 256, kernel_size=(3, 3), stride=(1, 1), padding=(1, 1), bias=False\n",
       "          (norm): FrozenBatchNorm2d(num_features=256, eps=1e-05)\n",
       "        )\n",
       "        (conv3): Conv2d(\n",
       "          256, 1024, kernel_size=(1, 1), stride=(1, 1), bias=False\n",
       "          (norm): FrozenBatchNorm2d(num_features=1024, eps=1e-05)\n",
       "        )\n",
       "      )\n",
       "      (15): BottleneckBlock(\n",
       "        (conv1): Conv2d(\n",
       "          1024, 256, kernel_size=(1, 1), stride=(1, 1), bias=False\n",
       "          (norm): FrozenBatchNorm2d(num_features=256, eps=1e-05)\n",
       "        )\n",
       "        (conv2): Conv2d(\n",
       "          256, 256, kernel_size=(3, 3), stride=(1, 1), padding=(1, 1), bias=False\n",
       "          (norm): FrozenBatchNorm2d(num_features=256, eps=1e-05)\n",
       "        )\n",
       "        (conv3): Conv2d(\n",
       "          256, 1024, kernel_size=(1, 1), stride=(1, 1), bias=False\n",
       "          (norm): FrozenBatchNorm2d(num_features=1024, eps=1e-05)\n",
       "        )\n",
       "      )\n",
       "      (16): BottleneckBlock(\n",
       "        (conv1): Conv2d(\n",
       "          1024, 256, kernel_size=(1, 1), stride=(1, 1), bias=False\n",
       "          (norm): FrozenBatchNorm2d(num_features=256, eps=1e-05)\n",
       "        )\n",
       "        (conv2): Conv2d(\n",
       "          256, 256, kernel_size=(3, 3), stride=(1, 1), padding=(1, 1), bias=False\n",
       "          (norm): FrozenBatchNorm2d(num_features=256, eps=1e-05)\n",
       "        )\n",
       "        (conv3): Conv2d(\n",
       "          256, 1024, kernel_size=(1, 1), stride=(1, 1), bias=False\n",
       "          (norm): FrozenBatchNorm2d(num_features=1024, eps=1e-05)\n",
       "        )\n",
       "      )\n",
       "      (17): BottleneckBlock(\n",
       "        (conv1): Conv2d(\n",
       "          1024, 256, kernel_size=(1, 1), stride=(1, 1), bias=False\n",
       "          (norm): FrozenBatchNorm2d(num_features=256, eps=1e-05)\n",
       "        )\n",
       "        (conv2): Conv2d(\n",
       "          256, 256, kernel_size=(3, 3), stride=(1, 1), padding=(1, 1), bias=False\n",
       "          (norm): FrozenBatchNorm2d(num_features=256, eps=1e-05)\n",
       "        )\n",
       "        (conv3): Conv2d(\n",
       "          256, 1024, kernel_size=(1, 1), stride=(1, 1), bias=False\n",
       "          (norm): FrozenBatchNorm2d(num_features=1024, eps=1e-05)\n",
       "        )\n",
       "      )\n",
       "      (18): BottleneckBlock(\n",
       "        (conv1): Conv2d(\n",
       "          1024, 256, kernel_size=(1, 1), stride=(1, 1), bias=False\n",
       "          (norm): FrozenBatchNorm2d(num_features=256, eps=1e-05)\n",
       "        )\n",
       "        (conv2): Conv2d(\n",
       "          256, 256, kernel_size=(3, 3), stride=(1, 1), padding=(1, 1), bias=False\n",
       "          (norm): FrozenBatchNorm2d(num_features=256, eps=1e-05)\n",
       "        )\n",
       "        (conv3): Conv2d(\n",
       "          256, 1024, kernel_size=(1, 1), stride=(1, 1), bias=False\n",
       "          (norm): FrozenBatchNorm2d(num_features=1024, eps=1e-05)\n",
       "        )\n",
       "      )\n",
       "      (19): BottleneckBlock(\n",
       "        (conv1): Conv2d(\n",
       "          1024, 256, kernel_size=(1, 1), stride=(1, 1), bias=False\n",
       "          (norm): FrozenBatchNorm2d(num_features=256, eps=1e-05)\n",
       "        )\n",
       "        (conv2): Conv2d(\n",
       "          256, 256, kernel_size=(3, 3), stride=(1, 1), padding=(1, 1), bias=False\n",
       "          (norm): FrozenBatchNorm2d(num_features=256, eps=1e-05)\n",
       "        )\n",
       "        (conv3): Conv2d(\n",
       "          256, 1024, kernel_size=(1, 1), stride=(1, 1), bias=False\n",
       "          (norm): FrozenBatchNorm2d(num_features=1024, eps=1e-05)\n",
       "        )\n",
       "      )\n",
       "      (20): BottleneckBlock(\n",
       "        (conv1): Conv2d(\n",
       "          1024, 256, kernel_size=(1, 1), stride=(1, 1), bias=False\n",
       "          (norm): FrozenBatchNorm2d(num_features=256, eps=1e-05)\n",
       "        )\n",
       "        (conv2): Conv2d(\n",
       "          256, 256, kernel_size=(3, 3), stride=(1, 1), padding=(1, 1), bias=False\n",
       "          (norm): FrozenBatchNorm2d(num_features=256, eps=1e-05)\n",
       "        )\n",
       "        (conv3): Conv2d(\n",
       "          256, 1024, kernel_size=(1, 1), stride=(1, 1), bias=False\n",
       "          (norm): FrozenBatchNorm2d(num_features=1024, eps=1e-05)\n",
       "        )\n",
       "      )\n",
       "      (21): BottleneckBlock(\n",
       "        (conv1): Conv2d(\n",
       "          1024, 256, kernel_size=(1, 1), stride=(1, 1), bias=False\n",
       "          (norm): FrozenBatchNorm2d(num_features=256, eps=1e-05)\n",
       "        )\n",
       "        (conv2): Conv2d(\n",
       "          256, 256, kernel_size=(3, 3), stride=(1, 1), padding=(1, 1), bias=False\n",
       "          (norm): FrozenBatchNorm2d(num_features=256, eps=1e-05)\n",
       "        )\n",
       "        (conv3): Conv2d(\n",
       "          256, 1024, kernel_size=(1, 1), stride=(1, 1), bias=False\n",
       "          (norm): FrozenBatchNorm2d(num_features=1024, eps=1e-05)\n",
       "        )\n",
       "      )\n",
       "      (22): BottleneckBlock(\n",
       "        (conv1): Conv2d(\n",
       "          1024, 256, kernel_size=(1, 1), stride=(1, 1), bias=False\n",
       "          (norm): FrozenBatchNorm2d(num_features=256, eps=1e-05)\n",
       "        )\n",
       "        (conv2): Conv2d(\n",
       "          256, 256, kernel_size=(3, 3), stride=(1, 1), padding=(1, 1), bias=False\n",
       "          (norm): FrozenBatchNorm2d(num_features=256, eps=1e-05)\n",
       "        )\n",
       "        (conv3): Conv2d(\n",
       "          256, 1024, kernel_size=(1, 1), stride=(1, 1), bias=False\n",
       "          (norm): FrozenBatchNorm2d(num_features=1024, eps=1e-05)\n",
       "        )\n",
       "      )\n",
       "    )\n",
       "  )\n",
       "  (proposal_generator): RPN(\n",
       "    (rpn_head): StandardRPNHead(\n",
       "      (conv): Conv2d(\n",
       "        1024, 1024, kernel_size=(3, 3), stride=(1, 1), padding=(1, 1)\n",
       "        (activation): ReLU()\n",
       "      )\n",
       "      (objectness_logits): Conv2d(1024, 15, kernel_size=(1, 1), stride=(1, 1))\n",
       "      (anchor_deltas): Conv2d(1024, 60, kernel_size=(1, 1), stride=(1, 1))\n",
       "    )\n",
       "    (anchor_generator): DefaultAnchorGenerator(\n",
       "      (cell_anchors): BufferList()\n",
       "    )\n",
       "  )\n",
       "  (roi_heads): Res5ROIHeads(\n",
       "    (pooler): ROIPooler(\n",
       "      (level_poolers): ModuleList(\n",
       "        (0): ROIAlign(output_size=(14, 14), spatial_scale=0.0625, sampling_ratio=0, aligned=True)\n",
       "      )\n",
       "    )\n",
       "    (res5): Sequential(\n",
       "      (0): BottleneckBlock(\n",
       "        (shortcut): Conv2d(\n",
       "          1024, 2048, kernel_size=(1, 1), stride=(2, 2), bias=False\n",
       "          (norm): FrozenBatchNorm2d(num_features=2048, eps=1e-05)\n",
       "        )\n",
       "        (conv1): Conv2d(\n",
       "          1024, 512, kernel_size=(1, 1), stride=(2, 2), bias=False\n",
       "          (norm): FrozenBatchNorm2d(num_features=512, eps=1e-05)\n",
       "        )\n",
       "        (conv2): Conv2d(\n",
       "          512, 512, kernel_size=(3, 3), stride=(1, 1), padding=(1, 1), bias=False\n",
       "          (norm): FrozenBatchNorm2d(num_features=512, eps=1e-05)\n",
       "        )\n",
       "        (conv3): Conv2d(\n",
       "          512, 2048, kernel_size=(1, 1), stride=(1, 1), bias=False\n",
       "          (norm): FrozenBatchNorm2d(num_features=2048, eps=1e-05)\n",
       "        )\n",
       "      )\n",
       "      (1): BottleneckBlock(\n",
       "        (conv1): Conv2d(\n",
       "          2048, 512, kernel_size=(1, 1), stride=(1, 1), bias=False\n",
       "          (norm): FrozenBatchNorm2d(num_features=512, eps=1e-05)\n",
       "        )\n",
       "        (conv2): Conv2d(\n",
       "          512, 512, kernel_size=(3, 3), stride=(1, 1), padding=(1, 1), bias=False\n",
       "          (norm): FrozenBatchNorm2d(num_features=512, eps=1e-05)\n",
       "        )\n",
       "        (conv3): Conv2d(\n",
       "          512, 2048, kernel_size=(1, 1), stride=(1, 1), bias=False\n",
       "          (norm): FrozenBatchNorm2d(num_features=2048, eps=1e-05)\n",
       "        )\n",
       "      )\n",
       "      (2): BottleneckBlock(\n",
       "        (conv1): Conv2d(\n",
       "          2048, 512, kernel_size=(1, 1), stride=(1, 1), bias=False\n",
       "          (norm): FrozenBatchNorm2d(num_features=512, eps=1e-05)\n",
       "        )\n",
       "        (conv2): Conv2d(\n",
       "          512, 512, kernel_size=(3, 3), stride=(1, 1), padding=(1, 1), bias=False\n",
       "          (norm): FrozenBatchNorm2d(num_features=512, eps=1e-05)\n",
       "        )\n",
       "        (conv3): Conv2d(\n",
       "          512, 2048, kernel_size=(1, 1), stride=(1, 1), bias=False\n",
       "          (norm): FrozenBatchNorm2d(num_features=2048, eps=1e-05)\n",
       "        )\n",
       "      )\n",
       "    )\n",
       "    (box_predictor): FastRCNNOutputLayers(\n",
       "      (cls_score): Linear(in_features=2048, out_features=16, bias=True)\n",
       "      (bbox_pred): Linear(in_features=2048, out_features=60, bias=True)\n",
       "    )\n",
       "    (mask_head): MaskRCNNConvUpsampleHead(\n",
       "      (deconv): ConvTranspose2d(2048, 256, kernel_size=(2, 2), stride=(2, 2))\n",
       "      (deconv_relu): ReLU()\n",
       "      (predictor): Conv2d(256, 15, kernel_size=(1, 1), stride=(1, 1))\n",
       "    )\n",
       "  )\n",
       ")"
      ]
     },
     "metadata": {},
     "execution_count": 23
    }
   ]
  },
  {
   "cell_type": "code",
   "source": [
    "images_names = os.listdir(images_path)\n",
    "images_paths = [images_path + x for x in os.listdir(images_path)]\n",
    "\n",
    "# Generate Visual Features for each image\n",
    "for image_name in tqdm(images_names):   \n",
    "    my_file = Path(save_path+str(image_name.split(\".\")[0])+'.json')\n",
    "    # Pass if the file has been processed before\n",
    "    if my_file.is_file():\n",
    "        continue\n",
    "    \n",
    "    orig_image = cv2.imread(images_path+image_name)\n",
    "    orig_height, orig_width = orig_image.shape[:2]\n",
    "    image = aug.get_transform(orig_image).apply_image(orig_image)\n",
    "    image = torch.as_tensor(image.astype(\"float32\").transpose(2, 0, 1))\n",
    "    c, height, width = image.shape\n",
    "    inputs = [{\"image\": image, \"height\": height, \"width\": width}]\n",
    "    #run model\n",
    "    image_data_dict = {}\n",
    "\n",
    "    with torch.no_grad():\n",
    "        images = model.preprocess_image(inputs) \n",
    "        features = model.backbone(images.tensor)\n",
    "        proposals, _ = model.proposal_generator(images, features) \n",
    "        #### orig\n",
    "        instances, _ = model.roi_heads(images, features, proposals)\n",
    "        mask_features = [features[f] for f in model.roi_heads.in_features]\n",
    "        mask_features = model.roi_heads.pooler(mask_features, [x.pred_boxes for x in instances])\n",
    "        mask_features = model.roi_heads.res5(mask_features)\n",
    "        average_pooling = nn.AvgPool2d(7)\n",
    "        \n",
    "        mask_features = average_pooling(mask_features)\n",
    "        orig_size = mask_features.size()\n",
    "        mask_features = mask_features.resize_(orig_size[0], orig_size[1])\n",
    "        ###\n",
    "\n",
    "        boxes = instances[0].pred_boxes.tensor.detach().cpu().numpy()\n",
    "\n",
    "        normalized_boxes = [[box[0] / width, box[1] / height, box[2] / width, box[3] / height] for box in boxes]\n",
    "        image_data_dict['visual_feats'] = mask_features.detach().cpu().numpy().tolist()\n",
    "        image_data_dict['bboxes'] = normalized_boxes\n",
    "\n",
    "    with open(save_path+str(image_name.split(\".\")[0])+'.json', 'w') as f:\n",
    "       json.dump(image_data_dict, f)\n",
    "\n",
    "    # VISUALIZE THE PREDICTIONS\n",
    "    # for box in normalized_boxes:\n",
    "    #     x1, y1, x2, y2 = box\n",
    "    #     cv2.rectangle(orig_image, (int(x1*orig_width), int(y1*orig_height)), (int(x2*orig_width), int(y2*orig_height)), (255,0,0), 2)\n",
    "    # plt.imshow(orig_image)\n",
    "    # plt.show()"
   ],
   "metadata": {
    "colab": {
     "base_uri": "https://localhost:8080/",
     "height": 397
    },
    "id": "PYhwqVqaMmRA",
    "outputId": "8d840378-52b8-43a5-b7f1-c26e21eec75a"
   },
   "execution_count": 25,
   "outputs": [
    {
     "output_type": "stream",
     "name": "stderr",
     "text": [
      "  1%|          | 46/5863 [00:22<47:25,  2.04it/s]\n"
     ]
    },
    {
     "output_type": "error",
     "ename": "KeyboardInterrupt",
     "evalue": "ignored",
     "traceback": [
      "\u001B[0;31m---------------------------------------------------------------------------\u001B[0m",
      "\u001B[0;31mKeyboardInterrupt\u001B[0m                         Traceback (most recent call last)",
      "\u001B[0;32m<ipython-input-25-56b36bf8e884>\u001B[0m in \u001B[0;36m<module>\u001B[0;34m\u001B[0m\n\u001B[1;32m     24\u001B[0m         \u001B[0mproposals\u001B[0m\u001B[0;34m,\u001B[0m \u001B[0m_\u001B[0m \u001B[0;34m=\u001B[0m \u001B[0mmodel\u001B[0m\u001B[0;34m.\u001B[0m\u001B[0mproposal_generator\u001B[0m\u001B[0;34m(\u001B[0m\u001B[0mimages\u001B[0m\u001B[0;34m,\u001B[0m \u001B[0mfeatures\u001B[0m\u001B[0;34m)\u001B[0m\u001B[0;34m\u001B[0m\u001B[0;34m\u001B[0m\u001B[0m\n\u001B[1;32m     25\u001B[0m         \u001B[0;31m#### orig\u001B[0m\u001B[0;34m\u001B[0m\u001B[0;34m\u001B[0m\u001B[0;34m\u001B[0m\u001B[0m\n\u001B[0;32m---> 26\u001B[0;31m         \u001B[0minstances\u001B[0m\u001B[0;34m,\u001B[0m \u001B[0m_\u001B[0m \u001B[0;34m=\u001B[0m \u001B[0mmodel\u001B[0m\u001B[0;34m.\u001B[0m\u001B[0mroi_heads\u001B[0m\u001B[0;34m(\u001B[0m\u001B[0mimages\u001B[0m\u001B[0;34m,\u001B[0m \u001B[0mfeatures\u001B[0m\u001B[0;34m,\u001B[0m \u001B[0mproposals\u001B[0m\u001B[0;34m)\u001B[0m\u001B[0;34m\u001B[0m\u001B[0;34m\u001B[0m\u001B[0m\n\u001B[0m\u001B[1;32m     27\u001B[0m         \u001B[0mmask_features\u001B[0m \u001B[0;34m=\u001B[0m \u001B[0;34m[\u001B[0m\u001B[0mfeatures\u001B[0m\u001B[0;34m[\u001B[0m\u001B[0mf\u001B[0m\u001B[0;34m]\u001B[0m \u001B[0;32mfor\u001B[0m \u001B[0mf\u001B[0m \u001B[0;32min\u001B[0m \u001B[0mmodel\u001B[0m\u001B[0;34m.\u001B[0m\u001B[0mroi_heads\u001B[0m\u001B[0;34m.\u001B[0m\u001B[0min_features\u001B[0m\u001B[0;34m]\u001B[0m\u001B[0;34m\u001B[0m\u001B[0;34m\u001B[0m\u001B[0m\n\u001B[1;32m     28\u001B[0m         \u001B[0mmask_features\u001B[0m \u001B[0;34m=\u001B[0m \u001B[0mmodel\u001B[0m\u001B[0;34m.\u001B[0m\u001B[0mroi_heads\u001B[0m\u001B[0;34m.\u001B[0m\u001B[0mpooler\u001B[0m\u001B[0;34m(\u001B[0m\u001B[0mmask_features\u001B[0m\u001B[0;34m,\u001B[0m \u001B[0;34m[\u001B[0m\u001B[0mx\u001B[0m\u001B[0;34m.\u001B[0m\u001B[0mpred_boxes\u001B[0m \u001B[0;32mfor\u001B[0m \u001B[0mx\u001B[0m \u001B[0;32min\u001B[0m \u001B[0minstances\u001B[0m\u001B[0;34m]\u001B[0m\u001B[0;34m)\u001B[0m\u001B[0;34m\u001B[0m\u001B[0;34m\u001B[0m\u001B[0m\n",
      "\u001B[0;32m/usr/local/lib/python3.7/dist-packages/torch/nn/modules/module.py\u001B[0m in \u001B[0;36m_call_impl\u001B[0;34m(self, *input, **kwargs)\u001B[0m\n\u001B[1;32m   1128\u001B[0m         if not (self._backward_hooks or self._forward_hooks or self._forward_pre_hooks or _global_backward_hooks\n\u001B[1;32m   1129\u001B[0m                 or _global_forward_hooks or _global_forward_pre_hooks):\n\u001B[0;32m-> 1130\u001B[0;31m             \u001B[0;32mreturn\u001B[0m \u001B[0mforward_call\u001B[0m\u001B[0;34m(\u001B[0m\u001B[0;34m*\u001B[0m\u001B[0minput\u001B[0m\u001B[0;34m,\u001B[0m \u001B[0;34m**\u001B[0m\u001B[0mkwargs\u001B[0m\u001B[0;34m)\u001B[0m\u001B[0;34m\u001B[0m\u001B[0;34m\u001B[0m\u001B[0m\n\u001B[0m\u001B[1;32m   1131\u001B[0m         \u001B[0;31m# Do not call functions when jit is used\u001B[0m\u001B[0;34m\u001B[0m\u001B[0;34m\u001B[0m\u001B[0;34m\u001B[0m\u001B[0m\n\u001B[1;32m   1132\u001B[0m         \u001B[0mfull_backward_hooks\u001B[0m\u001B[0;34m,\u001B[0m \u001B[0mnon_full_backward_hooks\u001B[0m \u001B[0;34m=\u001B[0m \u001B[0;34m[\u001B[0m\u001B[0;34m]\u001B[0m\u001B[0;34m,\u001B[0m \u001B[0;34m[\u001B[0m\u001B[0;34m]\u001B[0m\u001B[0;34m\u001B[0m\u001B[0;34m\u001B[0m\u001B[0m\n",
      "\u001B[0;32m/usr/local/lib/python3.7/dist-packages/detectron2/modeling/roi_heads/roi_heads.py\u001B[0m in \u001B[0;36mforward\u001B[0;34m(***failed resolving arguments***)\u001B[0m\n\u001B[1;32m    496\u001B[0m             \u001B[0;32mreturn\u001B[0m \u001B[0;34m[\u001B[0m\u001B[0;34m]\u001B[0m\u001B[0;34m,\u001B[0m \u001B[0mlosses\u001B[0m\u001B[0;34m\u001B[0m\u001B[0;34m\u001B[0m\u001B[0m\n\u001B[1;32m    497\u001B[0m         \u001B[0;32melse\u001B[0m\u001B[0;34m:\u001B[0m\u001B[0;34m\u001B[0m\u001B[0;34m\u001B[0m\u001B[0m\n\u001B[0;32m--> 498\u001B[0;31m             \u001B[0mpred_instances\u001B[0m\u001B[0;34m,\u001B[0m \u001B[0m_\u001B[0m \u001B[0;34m=\u001B[0m \u001B[0mself\u001B[0m\u001B[0;34m.\u001B[0m\u001B[0mbox_predictor\u001B[0m\u001B[0;34m.\u001B[0m\u001B[0minference\u001B[0m\u001B[0;34m(\u001B[0m\u001B[0mpredictions\u001B[0m\u001B[0;34m,\u001B[0m \u001B[0mproposals\u001B[0m\u001B[0;34m)\u001B[0m\u001B[0;34m\u001B[0m\u001B[0;34m\u001B[0m\u001B[0m\n\u001B[0m\u001B[1;32m    499\u001B[0m             \u001B[0mpred_instances\u001B[0m \u001B[0;34m=\u001B[0m \u001B[0mself\u001B[0m\u001B[0;34m.\u001B[0m\u001B[0mforward_with_given_boxes\u001B[0m\u001B[0;34m(\u001B[0m\u001B[0mfeatures\u001B[0m\u001B[0;34m,\u001B[0m \u001B[0mpred_instances\u001B[0m\u001B[0;34m)\u001B[0m\u001B[0;34m\u001B[0m\u001B[0;34m\u001B[0m\u001B[0m\n\u001B[1;32m    500\u001B[0m             \u001B[0;32mreturn\u001B[0m \u001B[0mpred_instances\u001B[0m\u001B[0;34m,\u001B[0m \u001B[0;34m{\u001B[0m\u001B[0;34m}\u001B[0m\u001B[0;34m\u001B[0m\u001B[0;34m\u001B[0m\u001B[0m\n",
      "\u001B[0;32m/usr/local/lib/python3.7/dist-packages/detectron2/modeling/roi_heads/fast_rcnn.py\u001B[0m in \u001B[0;36minference\u001B[0;34m(self, predictions, proposals)\u001B[0m\n\u001B[1;32m    483\u001B[0m             \u001B[0mself\u001B[0m\u001B[0;34m.\u001B[0m\u001B[0mtest_score_thresh\u001B[0m\u001B[0;34m,\u001B[0m\u001B[0;34m\u001B[0m\u001B[0;34m\u001B[0m\u001B[0m\n\u001B[1;32m    484\u001B[0m             \u001B[0mself\u001B[0m\u001B[0;34m.\u001B[0m\u001B[0mtest_nms_thresh\u001B[0m\u001B[0;34m,\u001B[0m\u001B[0;34m\u001B[0m\u001B[0;34m\u001B[0m\u001B[0m\n\u001B[0;32m--> 485\u001B[0;31m             \u001B[0mself\u001B[0m\u001B[0;34m.\u001B[0m\u001B[0mtest_topk_per_image\u001B[0m\u001B[0;34m,\u001B[0m\u001B[0;34m\u001B[0m\u001B[0;34m\u001B[0m\u001B[0m\n\u001B[0m\u001B[1;32m    486\u001B[0m         )\n\u001B[1;32m    487\u001B[0m \u001B[0;34m\u001B[0m\u001B[0m\n",
      "\u001B[0;32m/usr/local/lib/python3.7/dist-packages/detectron2/modeling/roi_heads/fast_rcnn.py\u001B[0m in \u001B[0;36mfast_rcnn_inference\u001B[0;34m(boxes, scores, image_shapes, score_thresh, nms_thresh, topk_per_image)\u001B[0m\n\u001B[1;32m     81\u001B[0m             \u001B[0mboxes_per_image\u001B[0m\u001B[0;34m,\u001B[0m \u001B[0mscores_per_image\u001B[0m\u001B[0;34m,\u001B[0m \u001B[0mimage_shape\u001B[0m\u001B[0;34m,\u001B[0m \u001B[0mscore_thresh\u001B[0m\u001B[0;34m,\u001B[0m \u001B[0mnms_thresh\u001B[0m\u001B[0;34m,\u001B[0m \u001B[0mtopk_per_image\u001B[0m\u001B[0;34m\u001B[0m\u001B[0;34m\u001B[0m\u001B[0m\n\u001B[1;32m     82\u001B[0m         )\n\u001B[0;32m---> 83\u001B[0;31m         \u001B[0;32mfor\u001B[0m \u001B[0mscores_per_image\u001B[0m\u001B[0;34m,\u001B[0m \u001B[0mboxes_per_image\u001B[0m\u001B[0;34m,\u001B[0m \u001B[0mimage_shape\u001B[0m \u001B[0;32min\u001B[0m \u001B[0mzip\u001B[0m\u001B[0;34m(\u001B[0m\u001B[0mscores\u001B[0m\u001B[0;34m,\u001B[0m \u001B[0mboxes\u001B[0m\u001B[0;34m,\u001B[0m \u001B[0mimage_shapes\u001B[0m\u001B[0;34m)\u001B[0m\u001B[0;34m\u001B[0m\u001B[0;34m\u001B[0m\u001B[0m\n\u001B[0m\u001B[1;32m     84\u001B[0m     ]\n\u001B[1;32m     85\u001B[0m     \u001B[0;32mreturn\u001B[0m \u001B[0;34m[\u001B[0m\u001B[0mx\u001B[0m\u001B[0;34m[\u001B[0m\u001B[0;36m0\u001B[0m\u001B[0;34m]\u001B[0m \u001B[0;32mfor\u001B[0m \u001B[0mx\u001B[0m \u001B[0;32min\u001B[0m \u001B[0mresult_per_image\u001B[0m\u001B[0;34m]\u001B[0m\u001B[0;34m,\u001B[0m \u001B[0;34m[\u001B[0m\u001B[0mx\u001B[0m\u001B[0;34m[\u001B[0m\u001B[0;36m1\u001B[0m\u001B[0;34m]\u001B[0m \u001B[0;32mfor\u001B[0m \u001B[0mx\u001B[0m \u001B[0;32min\u001B[0m \u001B[0mresult_per_image\u001B[0m\u001B[0;34m]\u001B[0m\u001B[0;34m\u001B[0m\u001B[0;34m\u001B[0m\u001B[0m\n",
      "\u001B[0;32m/usr/local/lib/python3.7/dist-packages/detectron2/modeling/roi_heads/fast_rcnn.py\u001B[0m in \u001B[0;36m<listcomp>\u001B[0;34m(.0)\u001B[0m\n\u001B[1;32m     81\u001B[0m             \u001B[0mboxes_per_image\u001B[0m\u001B[0;34m,\u001B[0m \u001B[0mscores_per_image\u001B[0m\u001B[0;34m,\u001B[0m \u001B[0mimage_shape\u001B[0m\u001B[0;34m,\u001B[0m \u001B[0mscore_thresh\u001B[0m\u001B[0;34m,\u001B[0m \u001B[0mnms_thresh\u001B[0m\u001B[0;34m,\u001B[0m \u001B[0mtopk_per_image\u001B[0m\u001B[0;34m\u001B[0m\u001B[0;34m\u001B[0m\u001B[0m\n\u001B[1;32m     82\u001B[0m         )\n\u001B[0;32m---> 83\u001B[0;31m         \u001B[0;32mfor\u001B[0m \u001B[0mscores_per_image\u001B[0m\u001B[0;34m,\u001B[0m \u001B[0mboxes_per_image\u001B[0m\u001B[0;34m,\u001B[0m \u001B[0mimage_shape\u001B[0m \u001B[0;32min\u001B[0m \u001B[0mzip\u001B[0m\u001B[0;34m(\u001B[0m\u001B[0mscores\u001B[0m\u001B[0;34m,\u001B[0m \u001B[0mboxes\u001B[0m\u001B[0;34m,\u001B[0m \u001B[0mimage_shapes\u001B[0m\u001B[0;34m)\u001B[0m\u001B[0;34m\u001B[0m\u001B[0;34m\u001B[0m\u001B[0m\n\u001B[0m\u001B[1;32m     84\u001B[0m     ]\n\u001B[1;32m     85\u001B[0m     \u001B[0;32mreturn\u001B[0m \u001B[0;34m[\u001B[0m\u001B[0mx\u001B[0m\u001B[0;34m[\u001B[0m\u001B[0;36m0\u001B[0m\u001B[0;34m]\u001B[0m \u001B[0;32mfor\u001B[0m \u001B[0mx\u001B[0m \u001B[0;32min\u001B[0m \u001B[0mresult_per_image\u001B[0m\u001B[0;34m]\u001B[0m\u001B[0;34m,\u001B[0m \u001B[0;34m[\u001B[0m\u001B[0mx\u001B[0m\u001B[0;34m[\u001B[0m\u001B[0;36m1\u001B[0m\u001B[0;34m]\u001B[0m \u001B[0;32mfor\u001B[0m \u001B[0mx\u001B[0m \u001B[0;32min\u001B[0m \u001B[0mresult_per_image\u001B[0m\u001B[0;34m]\u001B[0m\u001B[0;34m\u001B[0m\u001B[0;34m\u001B[0m\u001B[0m\n",
      "\u001B[0;32m/usr/local/lib/python3.7/dist-packages/detectron2/modeling/roi_heads/fast_rcnn.py\u001B[0m in \u001B[0;36mfast_rcnn_inference_single_image\u001B[0;34m(boxes, scores, image_shape, score_thresh, nms_thresh, topk_per_image)\u001B[0m\n\u001B[1;32m    136\u001B[0m     \"\"\"\n\u001B[1;32m    137\u001B[0m     \u001B[0mvalid_mask\u001B[0m \u001B[0;34m=\u001B[0m \u001B[0mtorch\u001B[0m\u001B[0;34m.\u001B[0m\u001B[0misfinite\u001B[0m\u001B[0;34m(\u001B[0m\u001B[0mboxes\u001B[0m\u001B[0;34m)\u001B[0m\u001B[0;34m.\u001B[0m\u001B[0mall\u001B[0m\u001B[0;34m(\u001B[0m\u001B[0mdim\u001B[0m\u001B[0;34m=\u001B[0m\u001B[0;36m1\u001B[0m\u001B[0;34m)\u001B[0m \u001B[0;34m&\u001B[0m \u001B[0mtorch\u001B[0m\u001B[0;34m.\u001B[0m\u001B[0misfinite\u001B[0m\u001B[0;34m(\u001B[0m\u001B[0mscores\u001B[0m\u001B[0;34m)\u001B[0m\u001B[0;34m.\u001B[0m\u001B[0mall\u001B[0m\u001B[0;34m(\u001B[0m\u001B[0mdim\u001B[0m\u001B[0;34m=\u001B[0m\u001B[0;36m1\u001B[0m\u001B[0;34m)\u001B[0m\u001B[0;34m\u001B[0m\u001B[0;34m\u001B[0m\u001B[0m\n\u001B[0;32m--> 138\u001B[0;31m     \u001B[0;32mif\u001B[0m \u001B[0;32mnot\u001B[0m \u001B[0mvalid_mask\u001B[0m\u001B[0;34m.\u001B[0m\u001B[0mall\u001B[0m\u001B[0;34m(\u001B[0m\u001B[0;34m)\u001B[0m\u001B[0;34m:\u001B[0m\u001B[0;34m\u001B[0m\u001B[0;34m\u001B[0m\u001B[0m\n\u001B[0m\u001B[1;32m    139\u001B[0m         \u001B[0mboxes\u001B[0m \u001B[0;34m=\u001B[0m \u001B[0mboxes\u001B[0m\u001B[0;34m[\u001B[0m\u001B[0mvalid_mask\u001B[0m\u001B[0;34m]\u001B[0m\u001B[0;34m\u001B[0m\u001B[0;34m\u001B[0m\u001B[0m\n\u001B[1;32m    140\u001B[0m         \u001B[0mscores\u001B[0m \u001B[0;34m=\u001B[0m \u001B[0mscores\u001B[0m\u001B[0;34m[\u001B[0m\u001B[0mvalid_mask\u001B[0m\u001B[0;34m]\u001B[0m\u001B[0;34m\u001B[0m\u001B[0;34m\u001B[0m\u001B[0m\n",
      "\u001B[0;31mKeyboardInterrupt\u001B[0m: "
     ]
    }
   ]
  },
  {
   "cell_type": "code",
   "source": [],
   "metadata": {
    "id": "YtMMlcBLR88z"
   },
   "execution_count": null,
   "outputs": []
  }
 ]
}
